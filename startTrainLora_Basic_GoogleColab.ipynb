{
 "cells": [
  {
   "attachments": {},
   "cell_type": "markdown",
   "metadata": {},
   "source": [
    "# Setup"
   ]
  },
  {
   "cell_type": "code",
   "execution_count": null,
   "metadata": {},
   "outputs": [],
   "source": [
    "!pip3 install git+https://github.com/huggingface/diffusers --upgrade\n",
    "!pip3 install accelerate\n",
    "!pip3 install transformers"
   ]
  },
  {
   "cell_type": "code",
   "execution_count": null,
   "metadata": {},
   "outputs": [],
   "source": [
    "from google.colab import drive\n",
    "drive.mount('/content/drive')"
   ]
  },
  {
   "attachments": {},
   "cell_type": "markdown",
   "metadata": {},
   "source": [
    "# Train Model"
   ]
  },
  {
   "cell_type": "code",
   "execution_count": null,
   "metadata": {},
   "outputs": [],
   "source": [
    "MODEL_NAME=\"wavymulder/portraitplus\"\n",
    "INSTANCE_DIR=\"/content/drive/MyDrive/AIFootage/muqing/dreambooth\"\n",
    "OUTPUT_DIR=\"/content/drive/MyDrive/AIFootage/muqing/dreambooth/output\"\n",
    "INSTANCE_KEY = \"mbai\"\n",
    "CLASS_KEY = \"Bai\"\n"
   ]
  },
  {
   "cell_type": "code",
   "execution_count": null,
   "metadata": {},
   "outputs": [],
   "source": [
    "if os.path.exists(OUTPUT_DIR) == False:\n",
    "    os.makedirs(OUTPUT_DIR)"
   ]
  },
  {
   "cell_type": "code",
   "execution_count": null,
   "metadata": {},
   "outputs": [],
   "source": [
    "!python3 \"train_dreambooth_lora.py\" --pretrained_model_name_or_path={MODEL_NAME}  --instance_data_dir={INSTANCE_DIR} --output_dir={OUTPUT_DIR} --instance_prompt=\"A photo of {INSTANCE_KEY}\" --class_data_dir=\"A photo of {CLASS_KEY}\" --resolution=512 --train_batch_size=1 --gradient_accumulation_steps=1 --checkpointing_steps=50000 --learning_rate=1e-4 --lr_scheduler=\"constant\" --lr_warmup_steps=0 --max_train_steps=500 --validation_prompt=\"portrait+ style A photo of {INSTANCE_KEY} on the beach\" --validation_epochs=50000 --seed=\"42\""
   ]
  },
  {
   "attachments": {},
   "cell_type": "markdown",
   "metadata": {},
   "source": [
    "# Generate Images with Trained Model"
   ]
  },
  {
   "cell_type": "code",
   "execution_count": null,
   "metadata": {},
   "outputs": [],
   "source": [
    "from diffusers import DiffusionPipeline, DPMSolverMultistepScheduler\n",
    "import torch\n",
    "import os\n",
    "\n",
    "pipe = DiffusionPipeline.from_pretrained(\"wavymulder/portraitplus\", torch_dtype=torch.float16)\n",
    "pipe.scheduler = DPMSolverMultistepScheduler.from_config(pipe.scheduler.config)\n",
    "pipe.to(\"cuda\")\n",
    "generator = torch.Generator(device=\"cuda\").manual_seed(42)\n",
    "pipe.load_lora_weights(\"portraitp2/pytorch_lora_weights.bin\")\n",
    "imagesToGenerate = 1\n",
    "movies = [\"A pizza place\"]\n",
    "personName = \"mbai\"\n",
    "for movie in movies:\n",
    "    images = pipe(\"A photo of \"+personName+\" in \" + movie + \" eating pizza. Fat. Chubby=3:5. OilySkin=4:5. Acne=4:5. Eyebags=5:5\",negative_prompt=\" blurry, women\", num_inference_steps=55, guidance_scale=7, num_images_per_prompt=imagesToGenerate, generator=generator).images\n",
    "    for indx, image_ in enumerate(images):\n",
    "        outpath = \"output/\" +personName.replace(\" \", \"_\")+\"_\"+ movie.replace(\" \", \"_\")\n",
    "        if not os.path.exists(outpath):\n",
    "            os.makedirs(outpath)\n",
    "        image_.save(outpath + \"/\"+ personName.replace(\" \", \"_\")+\"_\" + movie.replace(\" \", \"_\") + \"_\"+str(indx)+\".png\")\n",
    "\n",
    "# Save the image"
   ]
  }
 ],
 "metadata": {
  "language_info": {
   "name": "python"
  },
  "orig_nbformat": 4
 },
 "nbformat": 4,
 "nbformat_minor": 2
}
