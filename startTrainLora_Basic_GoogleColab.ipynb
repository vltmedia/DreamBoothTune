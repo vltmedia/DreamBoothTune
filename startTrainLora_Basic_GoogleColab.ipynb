{
 "cells": [
  {
   "cell_type": "code",
   "execution_count": null,
   "metadata": {},
   "outputs": [],
   "source": []
  },
  {
   "cell_type": "code",
   "execution_count": null,
   "metadata": {},
   "outputs": [],
   "source": [
    "MODEL_NAME=\"wavymulder/portraitplus\"\n",
    "INSTANCE_DIR=\"images\"\n",
    "OUTPUT_DIR=\"portraitp2\"\n",
    "INSTANCE_KEY = \"PdroPascl\"\n",
    "CLASS_KEY = \"Pedro Pascal\"\n"
   ]
  },
  {
   "cell_type": "code",
   "execution_count": null,
   "metadata": {},
   "outputs": [],
   "source": [
    "!python3 \"train_dreambooth_lora.py\" --pretrained_model_name_or_path={MODEL_NAME}  --instance_data_dir={INSTANCE_DIR} --output_dir={OUTPUT_DIR} --instance_prompt=\"A photo of {INSTANCE_KEY}\" --class_data_dir=\"A photo of {CLASS_KEY}\" --resolution=512 --train_batch_size=1 --gradient_accumulation_steps=1 --checkpointing_steps=50000 --learning_rate=1e-4 --lr_scheduler=\"constant\" --lr_warmup_steps=0 --max_train_steps=500 --validation_prompt=\"portrait+ style A photo of {INSTANCE_KEY} on the beach\" --validation_epochs=50000 --seed=\"42\""
   ]
  }
 ],
 "metadata": {
  "language_info": {
   "name": "python"
  },
  "orig_nbformat": 4
 },
 "nbformat": 4,
 "nbformat_minor": 2
}
